{
 "cells": [
  {
   "cell_type": "code",
   "execution_count": 1,
   "id": "fb2e81e8-c097-487d-8e5c-1752185898da",
   "metadata": {},
   "outputs": [
    {
     "name": "stdout",
     "output_type": "stream",
     "text": [
      "Requirement already satisfied: SpeechRecognition in c:\\users\\abhijit\\appdata\\local\\programs\\python\\python312\\lib\\site-packages (3.11.0)\n",
      "Requirement already satisfied: requests>=2.26.0 in c:\\users\\abhijit\\appdata\\local\\programs\\python\\python312\\lib\\site-packages (from SpeechRecognition) (2.31.0)\n",
      "Requirement already satisfied: typing-extensions in c:\\users\\abhijit\\appdata\\local\\programs\\python\\python312\\lib\\site-packages (from SpeechRecognition) (4.12.2)\n",
      "Requirement already satisfied: charset-normalizer<4,>=2 in c:\\users\\abhijit\\appdata\\local\\programs\\python\\python312\\lib\\site-packages (from requests>=2.26.0->SpeechRecognition) (3.3.2)\n",
      "Requirement already satisfied: idna<4,>=2.5 in c:\\users\\abhijit\\appdata\\local\\programs\\python\\python312\\lib\\site-packages (from requests>=2.26.0->SpeechRecognition) (3.6)\n",
      "Requirement already satisfied: urllib3<3,>=1.21.1 in c:\\users\\abhijit\\appdata\\local\\programs\\python\\python312\\lib\\site-packages (from requests>=2.26.0->SpeechRecognition) (2.2.0)\n",
      "Requirement already satisfied: certifi>=2017.4.17 in c:\\users\\abhijit\\appdata\\local\\programs\\python\\python312\\lib\\site-packages (from requests>=2.26.0->SpeechRecognition) (2024.2.2)\n",
      "Note: you may need to restart the kernel to use updated packages.\n"
     ]
    },
    {
     "name": "stderr",
     "output_type": "stream",
     "text": [
      "\n",
      "[notice] A new release of pip is available: 24.2 -> 24.3.1\n",
      "[notice] To update, run: python.exe -m pip install --upgrade pip\n"
     ]
    }
   ],
   "source": [
    "%pip install SpeechRecognition"
   ]
  },
  {
   "cell_type": "code",
   "execution_count": 2,
   "id": "6312fd05-4b84-455f-9c4a-d8fde70d9bcd",
   "metadata": {},
   "outputs": [
    {
     "name": "stdout",
     "output_type": "stream",
     "text": [
      "Collecting nltk\n",
      "  Downloading nltk-3.9.1-py3-none-any.whl.metadata (2.9 kB)\n",
      "Requirement already satisfied: click in c:\\users\\abhijit\\appdata\\local\\programs\\python\\python312\\lib\\site-packages (from nltk) (8.1.7)\n",
      "Collecting joblib (from nltk)\n",
      "  Downloading joblib-1.4.2-py3-none-any.whl.metadata (5.4 kB)\n",
      "Requirement already satisfied: regex>=2021.8.3 in c:\\users\\abhijit\\appdata\\local\\programs\\python\\python312\\lib\\site-packages (from nltk) (2024.11.6)\n",
      "Requirement already satisfied: tqdm in c:\\users\\abhijit\\appdata\\local\\programs\\python\\python312\\lib\\site-packages (from nltk) (4.67.0)\n",
      "Requirement already satisfied: colorama in c:\\users\\abhijit\\appdata\\local\\programs\\python\\python312\\lib\\site-packages (from click->nltk) (0.4.6)\n",
      "Downloading nltk-3.9.1-py3-none-any.whl (1.5 MB)\n",
      "   ---------------------------------------- 0.0/1.5 MB ? eta -:--:--\n",
      "   ---------------------------------------- 1.5/1.5 MB 26.5 MB/s eta 0:00:00\n",
      "Downloading joblib-1.4.2-py3-none-any.whl (301 kB)\n",
      "Installing collected packages: joblib, nltk\n",
      "Successfully installed joblib-1.4.2 nltk-3.9.1\n",
      "Note: you may need to restart the kernel to use updated packages.\n"
     ]
    },
    {
     "name": "stderr",
     "output_type": "stream",
     "text": [
      "\n",
      "[notice] A new release of pip is available: 24.2 -> 24.3.1\n",
      "[notice] To update, run: python.exe -m pip install --upgrade pip\n"
     ]
    }
   ],
   "source": [
    "%pip install nltk"
   ]
  },
  {
   "cell_type": "code",
   "execution_count": 3,
   "id": "859f33f3-8360-471d-bf05-e44b498c0159",
   "metadata": {},
   "outputs": [
    {
     "name": "stdout",
     "output_type": "stream",
     "text": [
      "Requirement already satisfied: numpy in c:\\users\\abhijit\\appdata\\local\\programs\\python\\python312\\lib\\site-packages (2.1.3)\n",
      "Note: you may need to restart the kernel to use updated packages.\n"
     ]
    },
    {
     "name": "stderr",
     "output_type": "stream",
     "text": [
      "\n",
      "[notice] A new release of pip is available: 24.2 -> 24.3.1\n",
      "[notice] To update, run: python.exe -m pip install --upgrade pip\n"
     ]
    }
   ],
   "source": [
    "%pip install numpy"
   ]
  },
  {
   "cell_type": "code",
   "execution_count": 4,
   "id": "68878c30-8772-471e-9d45-2bdd9d7e7471",
   "metadata": {},
   "outputs": [
    {
     "name": "stdout",
     "output_type": "stream",
     "text": [
      "Collecting scikit-learn\n",
      "  Downloading scikit_learn-1.5.2-cp312-cp312-win_amd64.whl.metadata (13 kB)\n",
      "Requirement already satisfied: numpy>=1.19.5 in c:\\users\\abhijit\\appdata\\local\\programs\\python\\python312\\lib\\site-packages (from scikit-learn) (2.1.3)\n",
      "Requirement already satisfied: scipy>=1.6.0 in c:\\users\\abhijit\\appdata\\local\\programs\\python\\python312\\lib\\site-packages (from scikit-learn) (1.12.0)\n",
      "Requirement already satisfied: joblib>=1.2.0 in c:\\users\\abhijit\\appdata\\local\\programs\\python\\python312\\lib\\site-packages (from scikit-learn) (1.4.2)\n",
      "Collecting threadpoolctl>=3.1.0 (from scikit-learn)\n",
      "  Downloading threadpoolctl-3.5.0-py3-none-any.whl.metadata (13 kB)\n",
      "Collecting numpy>=1.19.5 (from scikit-learn)\n",
      "  Using cached numpy-1.26.4-cp312-cp312-win_amd64.whl.metadata (61 kB)\n",
      "Downloading scikit_learn-1.5.2-cp312-cp312-win_amd64.whl (11.0 MB)\n",
      "   ---------------------------------------- 0.0/11.0 MB ? eta -:--:--\n",
      "   ------------ --------------------------- 3.4/11.0 MB 20.0 MB/s eta 0:00:01\n",
      "   ---------------------- ----------------- 6.3/11.0 MB 16.1 MB/s eta 0:00:01\n",
      "   --------------------------- ------------ 7.6/11.0 MB 12.0 MB/s eta 0:00:01\n",
      "   --------------------------------- ------ 9.2/11.0 MB 11.2 MB/s eta 0:00:01\n",
      "   ---------------------------------------  10.7/11.0 MB 10.8 MB/s eta 0:00:01\n",
      "   ---------------------------------------- 11.0/11.0 MB 10.2 MB/s eta 0:00:00\n",
      "Using cached numpy-1.26.4-cp312-cp312-win_amd64.whl (15.5 MB)\n",
      "Downloading threadpoolctl-3.5.0-py3-none-any.whl (18 kB)\n",
      "Installing collected packages: threadpoolctl, numpy, scikit-learn\n",
      "  Attempting uninstall: numpy\n",
      "    Found existing installation: numpy 2.1.3\n",
      "    Uninstalling numpy-2.1.3:\n",
      "      Successfully uninstalled numpy-2.1.3\n",
      "Successfully installed numpy-1.26.4 scikit-learn-1.5.2 threadpoolctl-3.5.0\n",
      "Note: you may need to restart the kernel to use updated packages.\n"
     ]
    },
    {
     "name": "stderr",
     "output_type": "stream",
     "text": [
      "ERROR: pip's dependency resolver does not currently take into account all the packages that are installed. This behaviour is the source of the following dependency conflicts.\n",
      "blis 1.0.1 requires numpy<3.0.0,>=2.0.0, but you have numpy 1.26.4 which is incompatible.\n",
      "thinc 8.3.2 requires numpy<2.1.0,>=2.0.0; python_version >= \"3.9\", but you have numpy 1.26.4 which is incompatible.\n",
      "\n",
      "[notice] A new release of pip is available: 24.2 -> 24.3.1\n",
      "[notice] To update, run: python.exe -m pip install --upgrade pip\n"
     ]
    }
   ],
   "source": [
    "%pip install scikit-learn"
   ]
  },
  {
   "cell_type": "code",
   "execution_count": 11,
   "id": "b534905a-ba5e-4676-8c11-baebc3bbe9d0",
   "metadata": {},
   "outputs": [
    {
     "name": "stderr",
     "output_type": "stream",
     "text": [
      "[nltk_data] Downloading package punkt to\n",
      "[nltk_data]     C:\\Users\\Abhijit\\AppData\\Roaming\\nltk_data...\n",
      "[nltk_data]   Package punkt is already up-to-date!\n"
     ]
    },
    {
     "name": "stdout",
     "output_type": "stream",
     "text": [
      "Recognized text: what is the primary purpose of an incident management\n",
      "Processing query: what is the primary purpose of an incident management\n",
      "Customer Support Bot: Incident management tools focus on logging and resolving issues efficiently.\n"
     ]
    }
   ],
   "source": [
    "import speech_recognition as sr\n",
    "import csv\n",
    "import nltk\n",
    "from sklearn.feature_extraction.text import CountVectorizer\n",
    "from sklearn.metrics.pairwise import cosine_similarity\n",
    "import numpy as np\n",
    "\n",
    "# Ensure necessary NLTK data is downloaded\n",
    "nltk.download('punkt')\n",
    "\n",
    "# Load FAQ dataset from CSV with error handling\n",
    "def load_faq_from_csv(csv_file_path):\n",
    "    faq_data = {}\n",
    "    with open(csv_file_path, mode='r') as file:\n",
    "        csv_reader = csv.reader(file)\n",
    "        next(csv_reader)  # Skip the header row\n",
    "        for row in csv_reader:\n",
    "            if len(row) >= 2:  # Ensure there are at least 2 columns (question, answer)\n",
    "                question = row[0]  # Question is always the first column\n",
    "                answer = row[1]    # Answer is always the second column\n",
    "                options = row[2] if len(row) > 2 else \"None\"  # Use \"None\" if options are missing\n",
    "                faq_data[question] = answer\n",
    "            else:\n",
    "                print(f\"Warning: Skipping invalid row in CSV: {row}\")\n",
    "    return faq_data\n",
    "\n",
    "# Preprocess and tokenize the input\n",
    "def preprocess_input(user_input):\n",
    "    return nltk.word_tokenize(user_input.lower())\n",
    "\n",
    "# Respond to user input based on FAQ\n",
    "def get_response(user_input, faq_data):\n",
    "    questions = list(faq_data.keys())\n",
    "    responses = list(faq_data.values())\n",
    "\n",
    "    # Add user input to the list of questions for comparison\n",
    "    user_input = [user_input]\n",
    "\n",
    "    # Use CountVectorizer to convert text data into a matrix of token counts\n",
    "    vectorizer = CountVectorizer().fit_transform(questions + user_input)\n",
    "    vectors = vectorizer.toarray()\n",
    "\n",
    "    # Calculate cosine similarity between user input and all FAQ questions\n",
    "    cosine_matrix = cosine_similarity(vectors)\n",
    "\n",
    "    # Get the cosine similarity scores for the user's input\n",
    "    user_vector = cosine_matrix[-1][:-1]\n",
    "\n",
    "    # Find the index of the most similar question\n",
    "    most_similar_idx = np.argmax(user_vector)\n",
    "\n",
    "    # Get the best match based on cosine similarity\n",
    "    similarity_score = user_vector[most_similar_idx]\n",
    "\n",
    "    if similarity_score > 0.5:  # Threshold for similarity\n",
    "        return responses[most_similar_idx]\n",
    "    else:\n",
    "        return \"I'm sorry, I don't have information about that. Could you please rephrase?\"\n",
    "\n",
    "# Convert pre-recorded speech to text\n",
    "def convert_speech_to_text(audio_file_path):\n",
    "    recognizer = sr.Recognizer()\n",
    "    \n",
    "    # Open the audio file\n",
    "    with sr.AudioFile(audio_file_path) as source:\n",
    "        # Listen to the audio and store it in an audio variable\n",
    "        audio = recognizer.record(source)\n",
    "\n",
    "    # Try to recognize the speech in the audio file\n",
    "    try:\n",
    "        # Recognize the speech using Google's speech recognition\n",
    "        text = recognizer.recognize_google(audio)\n",
    "        print(\"Recognized text: \" + text)\n",
    "        return text\n",
    "    except sr.UnknownValueError:\n",
    "        print(\"Could not understand the audio\")\n",
    "        return None\n",
    "    except sr.RequestError as e:\n",
    "        print(f\"Could not request results from Google Speech Recognition service; {e}\")\n",
    "        return None\n",
    "\n",
    "# Main function to handle the entire process\n",
    "def main():\n",
    "    # Load FAQ data from CSV file\n",
    "    csv_file_path = 'faq_dataset.csv'  # Specify the path to your FAQ CSV file\n",
    "    faq_data = load_faq_from_csv(csv_file_path)\n",
    "\n",
    "    # Path to your pre-recorded audio file (replace this with your file path)\n",
    "    audio_file_path = 'your_audio_file.wav'\n",
    "\n",
    "    # Convert speech to text\n",
    "    recognized_text = convert_speech_to_text(audio_file_path)\n",
    "\n",
    "    # If recognized text is available, process it to get the response\n",
    "    if recognized_text:\n",
    "        print(f\"Processing query: {recognized_text}\")\n",
    "        response = get_response(recognized_text, faq_data)\n",
    "        print(f\"Customer Support Bot: {response}\")\n",
    "    else:\n",
    "        print(\"No valid text was recognized to process.\")\n",
    "\n",
    "if __name__ == \"__main__\":\n",
    "    main()\n"
   ]
  },
  {
   "cell_type": "code",
   "execution_count": null,
   "id": "22236c15-3786-4994-bcae-20f180f13cce",
   "metadata": {},
   "outputs": [],
   "source": []
  }
 ],
 "metadata": {
  "kernelspec": {
   "display_name": "Python 3 (ipykernel)",
   "language": "python",
   "name": "python3"
  },
  "language_info": {
   "codemirror_mode": {
    "name": "ipython",
    "version": 3
   },
   "file_extension": ".py",
   "mimetype": "text/x-python",
   "name": "python",
   "nbconvert_exporter": "python",
   "pygments_lexer": "ipython3",
   "version": "3.12.2"
  }
 },
 "nbformat": 4,
 "nbformat_minor": 5
}
